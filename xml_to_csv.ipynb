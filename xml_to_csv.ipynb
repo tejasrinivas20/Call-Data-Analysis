{
 "cells": [
  {
   "cell_type": "markdown",
   "metadata": {},
   "source": [
    "### This code is used to convert XML files generated from the [SMS Backup & Restore](https://play.google.com/store/apps/details?id=com.riteshsahu.SMSBackupRestore) to a CSV file. The CSV file contains the following fields: Phone_no, Duration, Date_spec, Type, Date&Time, Contact_Name."
   ]
  },
  {
   "cell_type": "code",
   "execution_count": 1,
   "metadata": {},
   "outputs": [
    {
     "name": "stdout",
     "output_type": "stream",
     "text": [
      "Conversion from XML to CSV completed.\n"
     ]
    }
   ],
   "source": [
    "import csv\n",
    "import xml.etree.ElementTree as ET\n",
    "\n",
    "# Parse the XML file\n",
    "tree = ET.parse('calls.xml')\n",
    "root = tree.getroot()\n",
    "\n",
    "# Create a CSV file for writing with UTF-8 encoding\n",
    "csv_file = open('calls.csv', 'w', newline='', encoding='utf-8')\n",
    "csv_writer = csv.writer(csv_file)\n",
    "\n",
    "# Write the CSV header with renamed columns\n",
    "csv_writer.writerow([\"Phone_no\", \"Duration\", \"Date_spec\", \"Type\", \"Date&Time\", \"Contact_Name\"])\n",
    "\n",
    "# Iterate through the XML elements and write selected data to CSV\n",
    "for call in root.findall('.//call'):\n",
    "    phone_no = call.get('number', '')\n",
    "    duration = call.get('duration', '')\n",
    "    date_spec = call.get('date', '')\n",
    "    call_type = call.get('type', '')\n",
    "    readable_date = call.get('readable_date', '')\n",
    "    contact_name = call.get('contact_name', '')\n",
    "\n",
    "    # Write the selected data to the CSV file\n",
    "    csv_writer.writerow([phone_no, duration, date_spec, call_type, readable_date, contact_name])\n",
    "\n",
    "# Close the CSV file\n",
    "csv_file.close()\n",
    "\n",
    "print(\"Conversion from XML to CSV completed.\")\n"
   ]
  }
 ],
 "metadata": {
  "kernelspec": {
   "display_name": "Python 3",
   "language": "python",
   "name": "python3"
  },
  "language_info": {
   "codemirror_mode": {
    "name": "ipython",
    "version": 3
   },
   "file_extension": ".py",
   "mimetype": "text/x-python",
   "name": "python",
   "nbconvert_exporter": "python",
   "pygments_lexer": "ipython3",
   "version": "3.11.1"
  },
  "orig_nbformat": 4
 },
 "nbformat": 4,
 "nbformat_minor": 2
}
